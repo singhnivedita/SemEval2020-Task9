{
  "nbformat": 4,
  "nbformat_minor": 0,
  "metadata": {
    "colab": {
      "name": "Ensemble Learning",
      "provenance": [],
      "collapsed_sections": []
    },
    "kernelspec": {
      "name": "python3",
      "display_name": "Python 3"
    },
    "accelerator": "GPU"
  },
  "cells": [
    {
      "cell_type": "code",
      "metadata": {
        "id": "NntCGSmcoXoV",
        "colab_type": "code",
        "colab": {
          "base_uri": "https://localhost:8080/",
          "height": 679
        },
        "outputId": "fb953e1d-fa95-4208-da63-b571824152f3"
      },
      "source": [
        "!pip install tensorflow-gpu"
      ],
      "execution_count": 19,
      "outputs": [
        {
          "output_type": "stream",
          "text": [
            "Requirement already satisfied: tensorflow-gpu in /usr/local/lib/python3.6/dist-packages (2.2.0)\n",
            "Requirement already satisfied: gast==0.3.3 in /usr/local/lib/python3.6/dist-packages (from tensorflow-gpu) (0.3.3)\n",
            "Requirement already satisfied: h5py<2.11.0,>=2.10.0 in /usr/local/lib/python3.6/dist-packages (from tensorflow-gpu) (2.10.0)\n",
            "Requirement already satisfied: protobuf>=3.8.0 in /usr/local/lib/python3.6/dist-packages (from tensorflow-gpu) (3.10.0)\n",
            "Requirement already satisfied: opt-einsum>=2.3.2 in /usr/local/lib/python3.6/dist-packages (from tensorflow-gpu) (3.2.1)\n",
            "Requirement already satisfied: termcolor>=1.1.0 in /usr/local/lib/python3.6/dist-packages (from tensorflow-gpu) (1.1.0)\n",
            "Requirement already satisfied: absl-py>=0.7.0 in /usr/local/lib/python3.6/dist-packages (from tensorflow-gpu) (0.9.0)\n",
            "Requirement already satisfied: wheel>=0.26; python_version >= \"3\" in /usr/local/lib/python3.6/dist-packages (from tensorflow-gpu) (0.34.2)\n",
            "Requirement already satisfied: scipy==1.4.1; python_version >= \"3\" in /usr/local/lib/python3.6/dist-packages (from tensorflow-gpu) (1.4.1)\n",
            "Requirement already satisfied: tensorflow-estimator<2.3.0,>=2.2.0 in /usr/local/lib/python3.6/dist-packages (from tensorflow-gpu) (2.2.0)\n",
            "Requirement already satisfied: grpcio>=1.8.6 in /usr/local/lib/python3.6/dist-packages (from tensorflow-gpu) (1.30.0)\n",
            "Requirement already satisfied: wrapt>=1.11.1 in /usr/local/lib/python3.6/dist-packages (from tensorflow-gpu) (1.12.1)\n",
            "Requirement already satisfied: tensorboard<2.3.0,>=2.2.0 in /usr/local/lib/python3.6/dist-packages (from tensorflow-gpu) (2.2.2)\n",
            "Requirement already satisfied: astunparse==1.6.3 in /usr/local/lib/python3.6/dist-packages (from tensorflow-gpu) (1.6.3)\n",
            "Requirement already satisfied: numpy<2.0,>=1.16.0 in /usr/local/lib/python3.6/dist-packages (from tensorflow-gpu) (1.18.5)\n",
            "Requirement already satisfied: google-pasta>=0.1.8 in /usr/local/lib/python3.6/dist-packages (from tensorflow-gpu) (0.2.0)\n",
            "Requirement already satisfied: six>=1.12.0 in /usr/local/lib/python3.6/dist-packages (from tensorflow-gpu) (1.12.0)\n",
            "Requirement already satisfied: keras-preprocessing>=1.1.0 in /usr/local/lib/python3.6/dist-packages (from tensorflow-gpu) (1.1.2)\n",
            "Requirement already satisfied: setuptools in /usr/local/lib/python3.6/dist-packages (from protobuf>=3.8.0->tensorflow-gpu) (47.3.1)\n",
            "Requirement already satisfied: google-auth-oauthlib<0.5,>=0.4.1 in /usr/local/lib/python3.6/dist-packages (from tensorboard<2.3.0,>=2.2.0->tensorflow-gpu) (0.4.1)\n",
            "Requirement already satisfied: tensorboard-plugin-wit>=1.6.0 in /usr/local/lib/python3.6/dist-packages (from tensorboard<2.3.0,>=2.2.0->tensorflow-gpu) (1.6.0.post3)\n",
            "Requirement already satisfied: werkzeug>=0.11.15 in /usr/local/lib/python3.6/dist-packages (from tensorboard<2.3.0,>=2.2.0->tensorflow-gpu) (1.0.1)\n",
            "Requirement already satisfied: requests<3,>=2.21.0 in /usr/local/lib/python3.6/dist-packages (from tensorboard<2.3.0,>=2.2.0->tensorflow-gpu) (2.23.0)\n",
            "Requirement already satisfied: google-auth<2,>=1.6.3 in /usr/local/lib/python3.6/dist-packages (from tensorboard<2.3.0,>=2.2.0->tensorflow-gpu) (1.17.2)\n",
            "Requirement already satisfied: markdown>=2.6.8 in /usr/local/lib/python3.6/dist-packages (from tensorboard<2.3.0,>=2.2.0->tensorflow-gpu) (3.2.2)\n",
            "Requirement already satisfied: requests-oauthlib>=0.7.0 in /usr/local/lib/python3.6/dist-packages (from google-auth-oauthlib<0.5,>=0.4.1->tensorboard<2.3.0,>=2.2.0->tensorflow-gpu) (1.3.0)\n",
            "Requirement already satisfied: certifi>=2017.4.17 in /usr/local/lib/python3.6/dist-packages (from requests<3,>=2.21.0->tensorboard<2.3.0,>=2.2.0->tensorflow-gpu) (2020.6.20)\n",
            "Requirement already satisfied: urllib3!=1.25.0,!=1.25.1,<1.26,>=1.21.1 in /usr/local/lib/python3.6/dist-packages (from requests<3,>=2.21.0->tensorboard<2.3.0,>=2.2.0->tensorflow-gpu) (1.24.3)\n",
            "Requirement already satisfied: idna<3,>=2.5 in /usr/local/lib/python3.6/dist-packages (from requests<3,>=2.21.0->tensorboard<2.3.0,>=2.2.0->tensorflow-gpu) (2.9)\n",
            "Requirement already satisfied: chardet<4,>=3.0.2 in /usr/local/lib/python3.6/dist-packages (from requests<3,>=2.21.0->tensorboard<2.3.0,>=2.2.0->tensorflow-gpu) (3.0.4)\n",
            "Requirement already satisfied: rsa<5,>=3.1.4; python_version >= \"3\" in /usr/local/lib/python3.6/dist-packages (from google-auth<2,>=1.6.3->tensorboard<2.3.0,>=2.2.0->tensorflow-gpu) (4.6)\n",
            "Requirement already satisfied: cachetools<5.0,>=2.0.0 in /usr/local/lib/python3.6/dist-packages (from google-auth<2,>=1.6.3->tensorboard<2.3.0,>=2.2.0->tensorflow-gpu) (4.1.0)\n",
            "Requirement already satisfied: pyasn1-modules>=0.2.1 in /usr/local/lib/python3.6/dist-packages (from google-auth<2,>=1.6.3->tensorboard<2.3.0,>=2.2.0->tensorflow-gpu) (0.2.8)\n",
            "Requirement already satisfied: importlib-metadata; python_version < \"3.8\" in /usr/local/lib/python3.6/dist-packages (from markdown>=2.6.8->tensorboard<2.3.0,>=2.2.0->tensorflow-gpu) (1.6.1)\n",
            "Requirement already satisfied: oauthlib>=3.0.0 in /usr/local/lib/python3.6/dist-packages (from requests-oauthlib>=0.7.0->google-auth-oauthlib<0.5,>=0.4.1->tensorboard<2.3.0,>=2.2.0->tensorflow-gpu) (3.1.0)\n",
            "Requirement already satisfied: pyasn1>=0.1.3 in /usr/local/lib/python3.6/dist-packages (from rsa<5,>=3.1.4; python_version >= \"3\"->google-auth<2,>=1.6.3->tensorboard<2.3.0,>=2.2.0->tensorflow-gpu) (0.4.8)\n",
            "Requirement already satisfied: zipp>=0.5 in /usr/local/lib/python3.6/dist-packages (from importlib-metadata; python_version < \"3.8\"->markdown>=2.6.8->tensorboard<2.3.0,>=2.2.0->tensorflow-gpu) (3.1.0)\n"
          ],
          "name": "stdout"
        }
      ]
    },
    {
      "cell_type": "code",
      "metadata": {
        "id": "0k46obCQhEWC",
        "colab_type": "code",
        "colab": {
          "base_uri": "https://localhost:8080/",
          "height": 104
        },
        "outputId": "cd7a8db0-1a40-4851-b154-4f8698f4e9e4"
      },
      "source": [
        "# !unzip /content/ds.zip"
      ],
      "execution_count": 20,
      "outputs": [
        {
          "output_type": "stream",
          "text": [
            "Archive:  /content/ds.zip\n",
            "  inflating: Fully Processed Datasets/ValidationOnly.tsv  \n",
            "  inflating: Fully Processed Datasets/Ty.txt  \n",
            "  inflating: Fully Processed Datasets/FinalTrainingOnly.tsv  \n",
            "  inflating: Fully Processed Datasets/FinalTest.tsv  \n"
          ],
          "name": "stdout"
        }
      ]
    },
    {
      "cell_type": "code",
      "metadata": {
        "id": "EqqRj5P_odPu",
        "colab_type": "code",
        "colab": {}
      },
      "source": [
        "import numpy as np\n",
        "import matplotlib.pyplot as plt\n",
        "import tensorflow as tf\n",
        "import pandas as pd\n",
        "import csv\n",
        "from tensorflow.keras.preprocessing.text import Tokenizer\n",
        "from tensorflow.keras.preprocessing.sequence import pad_sequences\n",
        "from tensorflow.keras import Sequential\n",
        "from tensorflow.keras.layers import LSTM, Dropout, Dense, Embedding ,Bidirectional\n",
        "from sklearn.model_selection import train_test_split\n",
        "import torch\n",
        "from sklearn.metrics import accuracy_score"
      ],
      "execution_count": 41,
      "outputs": []
    },
    {
      "cell_type": "code",
      "metadata": {
        "id": "8_n5CCgiodS-",
        "colab_type": "code",
        "colab": {}
      },
      "source": [
        "d = pd.read_csv('/content/FinalTrainingOnly.tsv', sep=\"\\t\", header=None )\n",
        "\n",
        "x=d[1]\n",
        "y=d[2]\n",
        "y=list(y)\n",
        "x=list(x)\n",
        "\n",
        "for i in range(len(x)):\n",
        "  if type(x[i])==float:\n",
        "    x[i]=\" \"\n",
        "    y[i]= 1\n",
        "\n",
        "y=np.array(y)"
      ],
      "execution_count": 42,
      "outputs": []
    },
    {
      "cell_type": "code",
      "metadata": {
        "id": "B2-_zmvQDQOy",
        "colab_type": "code",
        "colab": {}
      },
      "source": [
        "v = pd.read_csv('/content/ValidationOnly.tsv', sep=\"\\t\", header=None )\n",
        "\n",
        "vx=v[1]\n",
        "vy=v[2]\n",
        "vy=list(vy)\n",
        "vx=list(vx)\n",
        "\n",
        "for i in range(len(vx)):\n",
        "  if type(vx[i])==float:\n",
        "    vx[i]=\" \"\n",
        "    vy[i]= 1\n",
        "\n",
        "vy=np.array(vy)"
      ],
      "execution_count": 43,
      "outputs": []
    },
    {
      "cell_type": "code",
      "metadata": {
        "id": "e334IozGodVP",
        "colab_type": "code",
        "colab": {}
      },
      "source": [
        "t = pd.read_csv('/content/FinalTest.tsv', sep=\"\\t\", header=None )\n",
        "tx=list(t[1])\n",
        "for i in range(len(tx)):\n",
        "  if type(tx[i])==float:\n",
        "    tx[i]=\" \""
      ],
      "execution_count": 44,
      "outputs": []
    },
    {
      "cell_type": "code",
      "metadata": {
        "id": "oUd0qrMWUATS",
        "colab_type": "code",
        "colab": {}
      },
      "source": [
        "ty = pd.read_csv('/content/Ty.txt', sep=\",\", header=None )\n",
        "sentiment = []\n",
        "for i in range(len(ty)):\n",
        "    if ty[1][i]=='negative':\n",
        "        sentiment.append(0)\n",
        "    elif ty[1][i]=='neutral':\n",
        "        sentiment.append(1)\n",
        "    elif ty[1][i]=='positive':\n",
        "        sentiment.append(2)\n",
        "\n",
        "ty = np.array(sentiment)"
      ],
      "execution_count": 45,
      "outputs": []
    },
    {
      "cell_type": "code",
      "metadata": {
        "id": "anl0VfrBodZY",
        "colab_type": "code",
        "colab": {}
      },
      "source": [
        "tokenizer = Tokenizer(num_words=2500,split=' ')\n",
        "tokenizer.fit_on_texts(x)\n",
        "\n",
        "X= tokenizer.texts_to_sequences(x)\n",
        "X = pad_sequences(X,maxlen=50)\n",
        "\n",
        "VX= tokenizer.texts_to_sequences(vx)\n",
        "VX = pad_sequences(VX,maxlen=50)\n",
        "\n",
        "\n",
        "TX = tokenizer.texts_to_sequences(tx)\n",
        "TX = pad_sequences(TX,maxlen=50)"
      ],
      "execution_count": 46,
      "outputs": []
    },
    {
      "cell_type": "code",
      "metadata": {
        "id": "J51f1HH8odb2",
        "colab_type": "code",
        "colab": {}
      },
      "source": [
        "vocab_size = 20000\n",
        "embed_size = 128"
      ],
      "execution_count": 47,
      "outputs": []
    },
    {
      "cell_type": "code",
      "metadata": {
        "id": "N9sHNymjodeP",
        "colab_type": "code",
        "colab": {
          "base_uri": "https://localhost:8080/",
          "height": 332
        },
        "outputId": "d9eea329-84fd-4aa8-96a4-5acec386558d"
      },
      "source": [
        "# Model no 1 \n",
        "\n",
        "ip = tf.keras.Input(shape=(X.shape[1]))\n",
        "em = Embedding(vocab_size, embed_size,trainable=True)(ip)\n",
        "x = Bidirectional(LSTM(128,activation='tanh', return_sequences=True, dropout=0.15, recurrent_dropout=0.15))(em) # Dimn shd be (None,200,128)\n",
        "x = tf.keras.layers.Conv1D(64, kernel_size=3, padding='valid', kernel_initializer='glorot_uniform')(x)\n",
        "avg_pool = tf.keras.layers.GlobalAveragePooling1D()(x)\n",
        "max_pool = tf.keras.layers.GlobalMaxPool1D()(x)\n",
        "x = tf.keras.layers.concatenate([avg_pool, max_pool])\n",
        "x = Dense(3, activation='softmax')(x)\n",
        "bi = tf.keras.Model(inputs = ip , outputs = x)\n",
        "bi.compile(loss='sparse_categorical_crossentropy', optimizer=tf.keras.optimizers.Adam(learning_rate=0.01, beta_1=0.9, beta_2=0.999, epsilon=1e-07), metrics=['accuracy'])\n",
        "# tf.keras.utils.plot_model(bi, 'my_first_model.png')\n",
        "history1 = bi.fit(X, y, epochs=7, batch_size=128,verbose=2,validation_data=(VX,vy))"
      ],
      "execution_count": 48,
      "outputs": [
        {
          "output_type": "stream",
          "text": [
            "WARNING:tensorflow:Layer lstm_6 will not use cuDNN kernel since it doesn't meet the cuDNN kernel criteria. It will use generic GPU kernel as fallback when running on GPU\n",
            "WARNING:tensorflow:Layer lstm_6 will not use cuDNN kernel since it doesn't meet the cuDNN kernel criteria. It will use generic GPU kernel as fallback when running on GPU\n",
            "WARNING:tensorflow:Layer lstm_6 will not use cuDNN kernel since it doesn't meet the cuDNN kernel criteria. It will use generic GPU kernel as fallback when running on GPU\n",
            "Epoch 1/7\n",
            "115/115 - 65s - loss: 0.9093 - accuracy: 0.5599 - val_loss: 0.8413 - val_accuracy: 0.5687\n",
            "Epoch 2/7\n",
            "115/115 - 65s - loss: 0.7812 - accuracy: 0.6470 - val_loss: 0.7313 - val_accuracy: 0.6967\n",
            "Epoch 3/7\n",
            "115/115 - 65s - loss: 0.7121 - accuracy: 0.6922 - val_loss: 0.6712 - val_accuracy: 0.7167\n",
            "Epoch 4/7\n",
            "115/115 - 64s - loss: 0.6571 - accuracy: 0.7205 - val_loss: 0.6533 - val_accuracy: 0.7210\n",
            "Epoch 5/7\n",
            "115/115 - 64s - loss: 0.5850 - accuracy: 0.7598 - val_loss: 0.5389 - val_accuracy: 0.8010\n",
            "Epoch 6/7\n",
            "115/115 - 64s - loss: 0.4865 - accuracy: 0.8050 - val_loss: 0.6173 - val_accuracy: 0.7770\n",
            "Epoch 7/7\n",
            "115/115 - 64s - loss: 0.4527 - accuracy: 0.8181 - val_loss: 0.4745 - val_accuracy: 0.8387\n"
          ],
          "name": "stdout"
        }
      ]
    },
    {
      "cell_type": "code",
      "metadata": {
        "id": "H9MP2yzQWvr5",
        "colab_type": "code",
        "colab": {
          "base_uri": "https://localhost:8080/",
          "height": 52
        },
        "outputId": "66088262-1ab4-46bb-980d-96258facc822"
      },
      "source": [
        "test_loss, test_acc = bi.evaluate(TX,ty)\n",
        "print(\"Test accuracy of BiLSTM model = \" + str(test_acc) )"
      ],
      "execution_count": 49,
      "outputs": [
        {
          "output_type": "stream",
          "text": [
            "94/94 [==============================] - 4s 41ms/step - loss: 1.0942 - accuracy: 0.6013\n",
            "Test accuracy of BiLSTM model = 0.6013333201408386\n"
          ],
          "name": "stdout"
        }
      ]
    },
    {
      "cell_type": "code",
      "metadata": {
        "id": "o_ywKYTHDS24",
        "colab_type": "code",
        "colab": {
          "base_uri": "https://localhost:8080/",
          "height": 228
        },
        "outputId": "e1c3f4ae-d7cb-41f5-fa37-a0f3cbf2fda8"
      },
      "source": [
        "# Model no 2 \n",
        "\n",
        "ip = tf.keras.Input(shape=(X.shape[1]))\n",
        "x = Embedding(vocab_size, embed_size,trainable=True)(ip)\n",
        "x = tf.keras.layers.Conv1D(64, kernel_size=3, padding='valid', kernel_initializer='glorot_uniform')(x)\n",
        "x = tf.keras.layers.GlobalMaxPool1D()(x)\n",
        "x = tf.reshape(x,(-1,1,64))\n",
        "x = LSTM(64,activation='tanh', dropout=0.15, recurrent_dropout=0.15)(x)\n",
        "x = Dense(3, activation='softmax')(x)\n",
        "cl = tf.keras.Model(inputs=ip, outputs=x)\n",
        "cl.compile(loss='sparse_categorical_crossentropy', optimizer=tf.keras.optimizers.Adam(learning_rate=0.01, beta_1=0.9, beta_2=0.999, epsilon=1e-07), metrics=['accuracy'])\n",
        "history = cl.fit(X, y, epochs=5, batch_size=128,verbose=2,validation_data=(VX,vy))"
      ],
      "execution_count": 50,
      "outputs": [
        {
          "output_type": "stream",
          "text": [
            "WARNING:tensorflow:Layer lstm_7 will not use cuDNN kernel since it doesn't meet the cuDNN kernel criteria. It will use generic GPU kernel as fallback when running on GPU\n",
            "Epoch 1/5\n",
            "115/115 - 5s - loss: 0.8873 - accuracy: 0.5617 - val_loss: 0.7663 - val_accuracy: 0.6583\n",
            "Epoch 2/5\n",
            "115/115 - 5s - loss: 0.7616 - accuracy: 0.6575 - val_loss: 0.7355 - val_accuracy: 0.6597\n",
            "Epoch 3/5\n",
            "115/115 - 4s - loss: 0.6904 - accuracy: 0.7003 - val_loss: 0.6295 - val_accuracy: 0.7573\n",
            "Epoch 4/5\n",
            "115/115 - 4s - loss: 0.6098 - accuracy: 0.7564 - val_loss: 0.5665 - val_accuracy: 0.7877\n",
            "Epoch 5/5\n",
            "115/115 - 4s - loss: 0.5352 - accuracy: 0.7937 - val_loss: 0.5305 - val_accuracy: 0.8067\n"
          ],
          "name": "stdout"
        }
      ]
    },
    {
      "cell_type": "code",
      "metadata": {
        "id": "iIyJPQGEY7Og",
        "colab_type": "code",
        "colab": {
          "base_uri": "https://localhost:8080/",
          "height": 52
        },
        "outputId": "b3e7a305-2798-4706-dc75-8ca3b0845c46"
      },
      "source": [
        "test_loss, test_acc = cl.evaluate(TX,ty)\n",
        "print(\"Test accuracy = \" + str(test_acc) )"
      ],
      "execution_count": 51,
      "outputs": [
        {
          "output_type": "stream",
          "text": [
            "94/94 [==============================] - 0s 4ms/step - loss: 0.9418 - accuracy: 0.6120\n",
            "Test accuracy = 0.6119999885559082\n"
          ],
          "name": "stdout"
        }
      ]
    },
    {
      "cell_type": "code",
      "metadata": {
        "id": "2Z-hKC3-bnSA",
        "colab_type": "code",
        "colab": {
          "base_uri": "https://localhost:8080/",
          "height": 225
        },
        "outputId": "294ce405-1b62-4600-c970-1bdeba14f6a6"
      },
      "source": [
        "# Model no 3\n",
        "\n",
        "model = Sequential()\n",
        "model.add(Embedding(vocab_size, embed_size, input_shape = (X.shape[1],)))\n",
        "model.add(LSTM(units=264, activation='tanh'))\n",
        "model.add(Dense(units=64,activation='tanh'))\n",
        "model.add(Dropout(0.5))\n",
        "model.add(Dense(units=3, activation='softmax'))\n",
        "\n",
        "model.compile(optimizer='adam', loss=\"sparse_categorical_crossentropy\", metrics = ['accuracy'])\n",
        "history = model.fit(X, y, epochs=6, batch_size=128,verbose=2,validation_data=(VX,vy))"
      ],
      "execution_count": 52,
      "outputs": [
        {
          "output_type": "stream",
          "text": [
            "Epoch 1/6\n",
            "115/115 - 7s - loss: 0.9193 - accuracy: 0.5383 - val_loss: 0.8049 - val_accuracy: 0.6327\n",
            "Epoch 2/6\n",
            "115/115 - 6s - loss: 0.7882 - accuracy: 0.6426 - val_loss: 0.7387 - val_accuracy: 0.6800\n",
            "Epoch 3/6\n",
            "115/115 - 6s - loss: 0.7297 - accuracy: 0.6843 - val_loss: 0.6965 - val_accuracy: 0.7017\n",
            "Epoch 4/6\n",
            "115/115 - 5s - loss: 0.6888 - accuracy: 0.7036 - val_loss: 0.6601 - val_accuracy: 0.7283\n",
            "Epoch 5/6\n",
            "115/115 - 5s - loss: 0.6452 - accuracy: 0.7277 - val_loss: 0.6344 - val_accuracy: 0.7467\n",
            "Epoch 6/6\n",
            "115/115 - 6s - loss: 0.5955 - accuracy: 0.7527 - val_loss: 0.5931 - val_accuracy: 0.7707\n"
          ],
          "name": "stdout"
        }
      ]
    },
    {
      "cell_type": "code",
      "metadata": {
        "id": "lr9hUc_hQ084",
        "colab_type": "code",
        "colab": {
          "base_uri": "https://localhost:8080/",
          "height": 52
        },
        "outputId": "06f90195-71d3-4520-e334-4cba0d370ec4"
      },
      "source": [
        "test_loss, test_acc = model.evaluate(TX,ty)\n",
        "print(\"Test accuracy = \" + str(test_acc) )"
      ],
      "execution_count": 53,
      "outputs": [
        {
          "output_type": "stream",
          "text": [
            "94/94 [==============================] - 1s 8ms/step - loss: 0.9188 - accuracy: 0.6063\n",
            "Test accuracy = 0.606333315372467\n"
          ],
          "name": "stdout"
        }
      ]
    },
    {
      "cell_type": "code",
      "metadata": {
        "id": "El7T9qqKKMVH",
        "colab_type": "code",
        "colab": {
          "base_uri": "https://localhost:8080/",
          "height": 676
        },
        "outputId": "0a0f1497-e515-44cc-b5bc-c4d01701aaf5"
      },
      "source": [
        "# Model no 4\n",
        "\n",
        "ip = tf.keras.Input(shape=(X.shape[1]))\n",
        "b = Embedding(vocab_size, embed_size,trainable=True)(ip)\n",
        "c1 = tf.keras.layers.Conv1D(64, kernel_size=3, padding='valid', kernel_initializer='glorot_uniform')(b)\n",
        "c2 = tf.keras.layers.Conv1D(64, kernel_size=4, padding='valid', kernel_initializer='glorot_uniform')(b)\n",
        "c3 = tf.keras.layers.Conv1D(64, kernel_size=5, padding='valid', kernel_initializer='glorot_uniform')(b)\n",
        "x = tf.keras.layers.concatenate([c1, c2, c3],axis=1)\n",
        "x = tf.keras.layers.GlobalMaxPool1D()(x)\n",
        "x = tf.reshape(x,(-1,1,64))\n",
        "x = Dense(64,activation='tanh')(x)\n",
        "x = Dense(3, activation='softmax')(x)\n",
        "cnn = tf.keras.Model(inputs=ip, outputs=x)\n",
        "cnn.compile(loss='sparse_categorical_crossentropy', optimizer=tf.keras.optimizers.Adam(learning_rate=0.01, beta_1=0.9, beta_2=0.999, epsilon=1e-07), metrics=['accuracy'])\n",
        "cnn.summary()\n",
        "history = cnn.fit(X, y, epochs=4, batch_size=128,verbose=2,validation_data=(VX,vy))"
      ],
      "execution_count": 54,
      "outputs": [
        {
          "output_type": "stream",
          "text": [
            "Model: \"model_7\"\n",
            "__________________________________________________________________________________________________\n",
            "Layer (type)                    Output Shape         Param #     Connected to                     \n",
            "==================================================================================================\n",
            "input_8 (InputLayer)            [(None, 50)]         0                                            \n",
            "__________________________________________________________________________________________________\n",
            "embedding_10 (Embedding)        (None, 50, 128)      2560000     input_8[0][0]                    \n",
            "__________________________________________________________________________________________________\n",
            "conv1d_9 (Conv1D)               (None, 48, 64)       24640       embedding_10[0][0]               \n",
            "__________________________________________________________________________________________________\n",
            "conv1d_10 (Conv1D)              (None, 47, 64)       32832       embedding_10[0][0]               \n",
            "__________________________________________________________________________________________________\n",
            "conv1d_11 (Conv1D)              (None, 46, 64)       41024       embedding_10[0][0]               \n",
            "__________________________________________________________________________________________________\n",
            "concatenate_4 (Concatenate)     (None, 141, 64)      0           conv1d_9[0][0]                   \n",
            "                                                                 conv1d_10[0][0]                  \n",
            "                                                                 conv1d_11[0][0]                  \n",
            "__________________________________________________________________________________________________\n",
            "global_max_pooling1d_7 (GlobalM (None, 64)           0           concatenate_4[0][0]              \n",
            "__________________________________________________________________________________________________\n",
            "tf_op_layer_Reshape_4 (TensorFl [(None, 1, 64)]      0           global_max_pooling1d_7[0][0]     \n",
            "__________________________________________________________________________________________________\n",
            "dense_14 (Dense)                (None, 1, 64)        4160        tf_op_layer_Reshape_4[0][0]      \n",
            "__________________________________________________________________________________________________\n",
            "dense_15 (Dense)                (None, 1, 3)         195         dense_14[0][0]                   \n",
            "==================================================================================================\n",
            "Total params: 2,662,851\n",
            "Trainable params: 2,662,851\n",
            "Non-trainable params: 0\n",
            "__________________________________________________________________________________________________\n",
            "Epoch 1/4\n",
            "115/115 - 4s - loss: 0.8889 - accuracy: 0.5713 - val_loss: 0.7590 - val_accuracy: 0.6630\n",
            "Epoch 2/4\n",
            "115/115 - 4s - loss: 0.7517 - accuracy: 0.6677 - val_loss: 0.6406 - val_accuracy: 0.7480\n",
            "Epoch 3/4\n",
            "115/115 - 4s - loss: 0.6360 - accuracy: 0.7371 - val_loss: 0.5378 - val_accuracy: 0.8027\n",
            "Epoch 4/4\n",
            "115/115 - 4s - loss: 0.4603 - accuracy: 0.8222 - val_loss: 0.4857 - val_accuracy: 0.8250\n"
          ],
          "name": "stdout"
        }
      ]
    },
    {
      "cell_type": "code",
      "metadata": {
        "id": "HN_gngUfY8Jl",
        "colab_type": "code",
        "colab": {
          "base_uri": "https://localhost:8080/",
          "height": 52
        },
        "outputId": "c4d4a06e-5e16-48a5-c8d9-5a44ec559c27"
      },
      "source": [
        "test_loss, test_acc = cnn.evaluate(TX,ty)\n",
        "print(\"Test accuracy = \" + str(test_acc) )"
      ],
      "execution_count": 55,
      "outputs": [
        {
          "output_type": "stream",
          "text": [
            "94/94 [==============================] - 0s 5ms/step - loss: 1.0124 - accuracy: 0.6053\n",
            "Test accuracy = 0.6053333282470703\n"
          ],
          "name": "stdout"
        }
      ]
    },
    {
      "cell_type": "code",
      "metadata": {
        "id": "t27_jNYnF6UM",
        "colab_type": "code",
        "colab": {}
      },
      "source": [
        "x1 = bi.predict(TX)\n",
        "x2 = cl.predict(TX)\n",
        "x3 = model.predict(TX)\n",
        "x4 = cnn.predict(TX)"
      ],
      "execution_count": 56,
      "outputs": []
    },
    {
      "cell_type": "code",
      "metadata": {
        "id": "EyBV0_dPYk6F",
        "colab_type": "code",
        "colab": {}
      },
      "source": [
        "x4=np.reshape(x4,(3000,3))"
      ],
      "execution_count": 57,
      "outputs": []
    },
    {
      "cell_type": "code",
      "metadata": {
        "id": "mLxx3ZcNAJaR",
        "colab_type": "code",
        "colab": {}
      },
      "source": [
        "a=[]\n",
        "for i in range(len(x1)):\n",
        "  b=[]\n",
        "  for j in range(len(x1[i])):\n",
        "    z = max(x1[i][j],x2[i][j],x3[i][j],x4[i][j] )\n",
        "    b.append(z)\n",
        "  a.append(b)\n",
        "  b=[]\n"
      ],
      "execution_count": 58,
      "outputs": []
    },
    {
      "cell_type": "code",
      "metadata": {
        "id": "zNBUWxWQaCJM",
        "colab_type": "code",
        "colab": {}
      },
      "source": [
        "a=np.array(a)\n",
        "a=np.argmax(a,axis=1)"
      ],
      "execution_count": 59,
      "outputs": []
    },
    {
      "cell_type": "code",
      "metadata": {
        "id": "Pl1wVF5Yodnp",
        "colab_type": "code",
        "colab": {
          "base_uri": "https://localhost:8080/",
          "height": 35
        },
        "outputId": "5680ce5e-2f1e-4e8b-acd1-e42834e61a53"
      },
      "source": [
        "test_acc = accuracy_score(ty,a)\n",
        "print(\"Test accuracy = \" + str(test_acc) )"
      ],
      "execution_count": 60,
      "outputs": [
        {
          "output_type": "stream",
          "text": [
            "Test accuracy = 0.6386666666666667\n"
          ],
          "name": "stdout"
        }
      ]
    }
  ]
}