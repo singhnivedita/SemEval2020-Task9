{
  "nbformat": 4,
  "nbformat_minor": 0,
  "metadata": {
    "colab": {
      "name": "Ensemble Learning",
      "provenance": [],
      "collapsed_sections": []
    },
    "kernelspec": {
      "name": "python3",
      "display_name": "Python 3"
    },
    "accelerator": "GPU"
  },
  "cells": [
    {
      "cell_type": "code",
      "metadata": {
        "id": "NntCGSmcoXoV",
        "colab_type": "code",
        "colab": {
          "base_uri": "https://localhost:8080/",
          "height": 653
        },
        "outputId": "eee09478-2fff-4c2f-b1a1-1a5c7c6693b9"
      },
      "source": [
        "!pip install tensorflow-gpu"
      ],
      "execution_count": 63,
      "outputs": [
        {
          "output_type": "stream",
          "text": [
            "Requirement already satisfied: tensorflow-gpu in /usr/local/lib/python3.6/dist-packages (2.2.0)\n",
            "Requirement already satisfied: termcolor>=1.1.0 in /usr/local/lib/python3.6/dist-packages (from tensorflow-gpu) (1.1.0)\n",
            "Requirement already satisfied: tensorflow-estimator<2.3.0,>=2.2.0 in /usr/local/lib/python3.6/dist-packages (from tensorflow-gpu) (2.2.0)\n",
            "Requirement already satisfied: astunparse==1.6.3 in /usr/local/lib/python3.6/dist-packages (from tensorflow-gpu) (1.6.3)\n",
            "Requirement already satisfied: protobuf>=3.8.0 in /usr/local/lib/python3.6/dist-packages (from tensorflow-gpu) (3.10.0)\n",
            "Requirement already satisfied: wrapt>=1.11.1 in /usr/local/lib/python3.6/dist-packages (from tensorflow-gpu) (1.12.1)\n",
            "Requirement already satisfied: numpy<2.0,>=1.16.0 in /usr/local/lib/python3.6/dist-packages (from tensorflow-gpu) (1.18.5)\n",
            "Requirement already satisfied: keras-preprocessing>=1.1.0 in /usr/local/lib/python3.6/dist-packages (from tensorflow-gpu) (1.1.2)\n",
            "Requirement already satisfied: h5py<2.11.0,>=2.10.0 in /usr/local/lib/python3.6/dist-packages (from tensorflow-gpu) (2.10.0)\n",
            "Requirement already satisfied: tensorboard<2.3.0,>=2.2.0 in /usr/local/lib/python3.6/dist-packages (from tensorflow-gpu) (2.2.2)\n",
            "Requirement already satisfied: six>=1.12.0 in /usr/local/lib/python3.6/dist-packages (from tensorflow-gpu) (1.12.0)\n",
            "Requirement already satisfied: absl-py>=0.7.0 in /usr/local/lib/python3.6/dist-packages (from tensorflow-gpu) (0.9.0)\n",
            "Requirement already satisfied: scipy==1.4.1; python_version >= \"3\" in /usr/local/lib/python3.6/dist-packages (from tensorflow-gpu) (1.4.1)\n",
            "Requirement already satisfied: opt-einsum>=2.3.2 in /usr/local/lib/python3.6/dist-packages (from tensorflow-gpu) (3.2.1)\n",
            "Requirement already satisfied: wheel>=0.26; python_version >= \"3\" in /usr/local/lib/python3.6/dist-packages (from tensorflow-gpu) (0.34.2)\n",
            "Requirement already satisfied: grpcio>=1.8.6 in /usr/local/lib/python3.6/dist-packages (from tensorflow-gpu) (1.30.0)\n",
            "Requirement already satisfied: google-pasta>=0.1.8 in /usr/local/lib/python3.6/dist-packages (from tensorflow-gpu) (0.2.0)\n",
            "Requirement already satisfied: gast==0.3.3 in /usr/local/lib/python3.6/dist-packages (from tensorflow-gpu) (0.3.3)\n",
            "Requirement already satisfied: setuptools in /usr/local/lib/python3.6/dist-packages (from protobuf>=3.8.0->tensorflow-gpu) (47.3.1)\n",
            "Requirement already satisfied: werkzeug>=0.11.15 in /usr/local/lib/python3.6/dist-packages (from tensorboard<2.3.0,>=2.2.0->tensorflow-gpu) (1.0.1)\n",
            "Requirement already satisfied: google-auth-oauthlib<0.5,>=0.4.1 in /usr/local/lib/python3.6/dist-packages (from tensorboard<2.3.0,>=2.2.0->tensorflow-gpu) (0.4.1)\n",
            "Requirement already satisfied: requests<3,>=2.21.0 in /usr/local/lib/python3.6/dist-packages (from tensorboard<2.3.0,>=2.2.0->tensorflow-gpu) (2.23.0)\n",
            "Requirement already satisfied: markdown>=2.6.8 in /usr/local/lib/python3.6/dist-packages (from tensorboard<2.3.0,>=2.2.0->tensorflow-gpu) (3.2.2)\n",
            "Requirement already satisfied: google-auth<2,>=1.6.3 in /usr/local/lib/python3.6/dist-packages (from tensorboard<2.3.0,>=2.2.0->tensorflow-gpu) (1.17.2)\n",
            "Requirement already satisfied: tensorboard-plugin-wit>=1.6.0 in /usr/local/lib/python3.6/dist-packages (from tensorboard<2.3.0,>=2.2.0->tensorflow-gpu) (1.6.0.post3)\n",
            "Requirement already satisfied: requests-oauthlib>=0.7.0 in /usr/local/lib/python3.6/dist-packages (from google-auth-oauthlib<0.5,>=0.4.1->tensorboard<2.3.0,>=2.2.0->tensorflow-gpu) (1.3.0)\n",
            "Requirement already satisfied: certifi>=2017.4.17 in /usr/local/lib/python3.6/dist-packages (from requests<3,>=2.21.0->tensorboard<2.3.0,>=2.2.0->tensorflow-gpu) (2020.6.20)\n",
            "Requirement already satisfied: urllib3!=1.25.0,!=1.25.1,<1.26,>=1.21.1 in /usr/local/lib/python3.6/dist-packages (from requests<3,>=2.21.0->tensorboard<2.3.0,>=2.2.0->tensorflow-gpu) (1.24.3)\n",
            "Requirement already satisfied: chardet<4,>=3.0.2 in /usr/local/lib/python3.6/dist-packages (from requests<3,>=2.21.0->tensorboard<2.3.0,>=2.2.0->tensorflow-gpu) (3.0.4)\n",
            "Requirement already satisfied: idna<3,>=2.5 in /usr/local/lib/python3.6/dist-packages (from requests<3,>=2.21.0->tensorboard<2.3.0,>=2.2.0->tensorflow-gpu) (2.9)\n",
            "Requirement already satisfied: importlib-metadata; python_version < \"3.8\" in /usr/local/lib/python3.6/dist-packages (from markdown>=2.6.8->tensorboard<2.3.0,>=2.2.0->tensorflow-gpu) (1.6.1)\n",
            "Requirement already satisfied: cachetools<5.0,>=2.0.0 in /usr/local/lib/python3.6/dist-packages (from google-auth<2,>=1.6.3->tensorboard<2.3.0,>=2.2.0->tensorflow-gpu) (4.1.0)\n",
            "Requirement already satisfied: pyasn1-modules>=0.2.1 in /usr/local/lib/python3.6/dist-packages (from google-auth<2,>=1.6.3->tensorboard<2.3.0,>=2.2.0->tensorflow-gpu) (0.2.8)\n",
            "Requirement already satisfied: rsa<5,>=3.1.4; python_version >= \"3\" in /usr/local/lib/python3.6/dist-packages (from google-auth<2,>=1.6.3->tensorboard<2.3.0,>=2.2.0->tensorflow-gpu) (4.6)\n",
            "Requirement already satisfied: oauthlib>=3.0.0 in /usr/local/lib/python3.6/dist-packages (from requests-oauthlib>=0.7.0->google-auth-oauthlib<0.5,>=0.4.1->tensorboard<2.3.0,>=2.2.0->tensorflow-gpu) (3.1.0)\n",
            "Requirement already satisfied: zipp>=0.5 in /usr/local/lib/python3.6/dist-packages (from importlib-metadata; python_version < \"3.8\"->markdown>=2.6.8->tensorboard<2.3.0,>=2.2.0->tensorflow-gpu) (3.1.0)\n",
            "Requirement already satisfied: pyasn1<0.5.0,>=0.4.6 in /usr/local/lib/python3.6/dist-packages (from pyasn1-modules>=0.2.1->google-auth<2,>=1.6.3->tensorboard<2.3.0,>=2.2.0->tensorflow-gpu) (0.4.8)\n"
          ],
          "name": "stdout"
        }
      ]
    },
    {
      "cell_type": "code",
      "metadata": {
        "id": "0k46obCQhEWC",
        "colab_type": "code",
        "colab": {
          "base_uri": "https://localhost:8080/",
          "height": 104
        },
        "outputId": "afd504bc-5477-4678-fe2b-8411f872f789"
      },
      "source": [
        "!unzip /content/ds.zip"
      ],
      "execution_count": null,
      "outputs": [
        {
          "output_type": "stream",
          "text": [
            "Archive:  /content/ds.zip\n",
            "  inflating: Fully Processed Datasets/ValidationOnly.tsv  \n",
            "  inflating: Fully Processed Datasets/Ty.txt  \n",
            "  inflating: Fully Processed Datasets/FinalTrainingOnly.tsv  \n",
            "  inflating: Fully Processed Datasets/FinalTest.tsv  \n"
          ],
          "name": "stdout"
        }
      ]
    },
    {
      "cell_type": "code",
      "metadata": {
        "id": "EqqRj5P_odPu",
        "colab_type": "code",
        "colab": {}
      },
      "source": [
        "import numpy as np\n",
        "import matplotlib.pyplot as plt\n",
        "import tensorflow as tf\n",
        "import pandas as pd\n",
        "import csv\n",
        "from tensorflow.keras.preprocessing.text import Tokenizer\n",
        "from tensorflow.keras.preprocessing.sequence import pad_sequences\n",
        "from tensorflow.keras import Sequential\n",
        "from tensorflow.keras.layers import LSTM, Dropout, Dense, Embedding ,Bidirectional\n",
        "from sklearn.model_selection import train_test_split\n",
        "import torch\n",
        "from sklearn.metrics import accuracy_score"
      ],
      "execution_count": 133,
      "outputs": []
    },
    {
      "cell_type": "code",
      "metadata": {
        "id": "8_n5CCgiodS-",
        "colab_type": "code",
        "colab": {}
      },
      "source": [
        "d = pd.read_csv('/content/FinalTrainingOnly.tsv', sep=\"\\t\", header=None )\n",
        "\n",
        "x=d[1]\n",
        "y=d[2]\n",
        "y=list(y)\n",
        "x=list(x)\n",
        "\n",
        "for i in range(len(x)):\n",
        "  if type(x[i])==float:\n",
        "    x[i]=\" \"\n",
        "    y[i]= 1\n",
        "\n",
        "y=np.array(y)"
      ],
      "execution_count": 134,
      "outputs": []
    },
    {
      "cell_type": "code",
      "metadata": {
        "id": "B2-_zmvQDQOy",
        "colab_type": "code",
        "colab": {}
      },
      "source": [
        "v = pd.read_csv('/content/ValidationOnly.tsv', sep=\"\\t\", header=None )\n",
        "\n",
        "vx=v[1]\n",
        "vy=v[2]\n",
        "vy=list(vy)\n",
        "vx=list(vx)\n",
        "\n",
        "for i in range(len(vx)):\n",
        "  if type(vx[i])==float:\n",
        "    vx[i]=\" \"\n",
        "    vy[i]= 1\n",
        "\n",
        "vy=np.array(vy)"
      ],
      "execution_count": 135,
      "outputs": []
    },
    {
      "cell_type": "code",
      "metadata": {
        "id": "e334IozGodVP",
        "colab_type": "code",
        "colab": {}
      },
      "source": [
        "t = pd.read_csv('/content/FinalTest.tsv', sep=\"\\t\", header=None )\n",
        "tx=list(t[1])\n",
        "for i in range(len(tx)):\n",
        "  if type(tx[i])==float:\n",
        "    tx[i]=\" \""
      ],
      "execution_count": 136,
      "outputs": []
    },
    {
      "cell_type": "code",
      "metadata": {
        "id": "oUd0qrMWUATS",
        "colab_type": "code",
        "colab": {}
      },
      "source": [
        "ty = pd.read_csv('/content/Ty.txt', sep=\",\", header=None )\n",
        "sentiment = []\n",
        "for i in range(len(ty)):\n",
        "    if ty[1][i]=='negative':\n",
        "        sentiment.append(0)\n",
        "    elif ty[1][i]=='neutral':\n",
        "        sentiment.append(1)\n",
        "    elif ty[1][i]=='positive':\n",
        "        sentiment.append(2)\n",
        "\n",
        "ty = np.array(sentiment)"
      ],
      "execution_count": 137,
      "outputs": []
    },
    {
      "cell_type": "code",
      "metadata": {
        "id": "anl0VfrBodZY",
        "colab_type": "code",
        "colab": {}
      },
      "source": [
        "tokenizer = Tokenizer(num_words=2500,split=' ')\n",
        "tokenizer.fit_on_texts(x)\n",
        "\n",
        "X= tokenizer.texts_to_sequences(x)\n",
        "X = pad_sequences(X,maxlen=50)\n",
        "\n",
        "VX= tokenizer.texts_to_sequences(vx)\n",
        "VX = pad_sequences(VX,maxlen=50)\n",
        "\n",
        "\n",
        "TX = tokenizer.texts_to_sequences(tx)\n",
        "TX = pad_sequences(TX,maxlen=50)"
      ],
      "execution_count": 138,
      "outputs": []
    },
    {
      "cell_type": "code",
      "metadata": {
        "id": "J51f1HH8odb2",
        "colab_type": "code",
        "colab": {}
      },
      "source": [
        "vocab_size = 20000\n",
        "embed_size = 128"
      ],
      "execution_count": 139,
      "outputs": []
    },
    {
      "cell_type": "code",
      "metadata": {
        "id": "N9sHNymjodeP",
        "colab_type": "code",
        "colab": {
          "base_uri": "https://localhost:8080/",
          "height": 320
        },
        "outputId": "7c2779fd-eff4-49b0-cf0c-cb2d39e72cb9"
      },
      "source": [
        "# Model no 1 \n",
        "\n",
        "ip = tf.keras.Input(shape=(X.shape[1]))\n",
        "em = Embedding(vocab_size, embed_size,trainable=True)(ip)\n",
        "x = Bidirectional(LSTM(128,activation='tanh', return_sequences=True, dropout=0.15, recurrent_dropout=0.15))(em) # Dimn shd be (None,200,128)\n",
        "x = tf.keras.layers.Conv1D(64, kernel_size=3, padding='valid', kernel_initializer='glorot_uniform')(x)\n",
        "avg_pool = tf.keras.layers.GlobalAveragePooling1D()(x)\n",
        "max_pool = tf.keras.layers.GlobalMaxPool1D()(x)\n",
        "x = tf.keras.layers.concatenate([avg_pool, max_pool])\n",
        "x = Dense(3, activation='softmax')(x)\n",
        "bi = tf.keras.Model(inputs = ip , outputs = x)\n",
        "bi.compile(loss='sparse_categorical_crossentropy', optimizer=tf.keras.optimizers.Adam(learning_rate=0.01, beta_1=0.9, beta_2=0.999, epsilon=1e-07), metrics=['accuracy'])\n",
        "# tf.keras.utils.plot_model(bi, 'my_first_model.png')\n",
        "history1 = bi.fit(X, y, epochs=7, batch_size=128,verbose=2,validation_data=(VX,vy))"
      ],
      "execution_count": 140,
      "outputs": [
        {
          "output_type": "stream",
          "text": [
            "WARNING:tensorflow:Layer lstm_18 will not use cuDNN kernel since it doesn't meet the cuDNN kernel criteria. It will use generic GPU kernel as fallback when running on GPU\n",
            "WARNING:tensorflow:Layer lstm_18 will not use cuDNN kernel since it doesn't meet the cuDNN kernel criteria. It will use generic GPU kernel as fallback when running on GPU\n",
            "WARNING:tensorflow:Layer lstm_18 will not use cuDNN kernel since it doesn't meet the cuDNN kernel criteria. It will use generic GPU kernel as fallback when running on GPU\n",
            "Epoch 1/7\n",
            "115/115 - 69s - loss: 0.9037 - accuracy: 0.5613 - val_loss: 0.7734 - val_accuracy: 0.6473\n",
            "Epoch 2/7\n",
            "115/115 - 68s - loss: 0.7836 - accuracy: 0.6440 - val_loss: 0.7082 - val_accuracy: 0.7073\n",
            "Epoch 3/7\n",
            "115/115 - 68s - loss: 0.7125 - accuracy: 0.6891 - val_loss: 0.6491 - val_accuracy: 0.7407\n",
            "Epoch 4/7\n",
            "115/115 - 69s - loss: 0.6446 - accuracy: 0.7251 - val_loss: 0.5943 - val_accuracy: 0.7640\n",
            "Epoch 5/7\n",
            "115/115 - 68s - loss: 0.5990 - accuracy: 0.7485 - val_loss: 0.5370 - val_accuracy: 0.7960\n",
            "Epoch 6/7\n",
            "115/115 - 69s - loss: 0.4858 - accuracy: 0.8027 - val_loss: 0.5842 - val_accuracy: 0.7713\n",
            "Epoch 7/7\n",
            "115/115 - 68s - loss: 0.4485 - accuracy: 0.8184 - val_loss: 0.4332 - val_accuracy: 0.8510\n"
          ],
          "name": "stdout"
        }
      ]
    },
    {
      "cell_type": "code",
      "metadata": {
        "id": "H9MP2yzQWvr5",
        "colab_type": "code",
        "colab": {
          "base_uri": "https://localhost:8080/",
          "height": 50
        },
        "outputId": "fc088751-c8f6-4277-c54f-deb7feb26d38"
      },
      "source": [
        "test_loss, test_acc = bi.evaluate(TX,ty)\n",
        "print(\"Test accuracy of BiLSTM model = \" + str(test_acc) )"
      ],
      "execution_count": 141,
      "outputs": [
        {
          "output_type": "stream",
          "text": [
            "94/94 [==============================] - 4s 40ms/step - loss: 1.1535 - accuracy: 0.6070\n",
            "Test accuracy of BiLSTM model = 0.6069999933242798\n"
          ],
          "name": "stdout"
        }
      ]
    },
    {
      "cell_type": "code",
      "metadata": {
        "id": "o_ywKYTHDS24",
        "colab_type": "code",
        "colab": {
          "base_uri": "https://localhost:8080/",
          "height": 220
        },
        "outputId": "a55fce6a-bb7e-45b3-a2ca-ba1cb007c9ab"
      },
      "source": [
        "# Model no 2 \n",
        "\n",
        "ip = tf.keras.Input(shape=(X.shape[1]))\n",
        "x = Embedding(vocab_size, embed_size,trainable=True)(ip)\n",
        "x = tf.keras.layers.Conv1D(64, kernel_size=3, padding='valid', kernel_initializer='glorot_uniform')(x)\n",
        "x = tf.keras.layers.GlobalMaxPool1D()(x)\n",
        "x = tf.reshape(x,(-1,1,64))\n",
        "x = LSTM(64,activation='tanh', dropout=0.15, recurrent_dropout=0.15)(x)\n",
        "x = Dense(3, activation='softmax')(x)\n",
        "cl = tf.keras.Model(inputs=ip, outputs=x)\n",
        "cl.compile(loss='sparse_categorical_crossentropy', optimizer=tf.keras.optimizers.Adam(learning_rate=0.01, beta_1=0.9, beta_2=0.999, epsilon=1e-07), metrics=['accuracy'])\n",
        "history = cl.fit(X, y, epochs=5, batch_size=128,verbose=2,validation_data=(VX,vy))"
      ],
      "execution_count": 142,
      "outputs": [
        {
          "output_type": "stream",
          "text": [
            "WARNING:tensorflow:Layer lstm_19 will not use cuDNN kernel since it doesn't meet the cuDNN kernel criteria. It will use generic GPU kernel as fallback when running on GPU\n",
            "Epoch 1/5\n",
            "115/115 - 5s - loss: 0.8826 - accuracy: 0.5718 - val_loss: 0.7676 - val_accuracy: 0.6567\n",
            "Epoch 2/5\n",
            "115/115 - 5s - loss: 0.7613 - accuracy: 0.6605 - val_loss: 0.7092 - val_accuracy: 0.7120\n",
            "Epoch 3/5\n",
            "115/115 - 5s - loss: 0.6792 - accuracy: 0.7128 - val_loss: 0.6160 - val_accuracy: 0.7530\n",
            "Epoch 4/5\n",
            "115/115 - 5s - loss: 0.5910 - accuracy: 0.7581 - val_loss: 0.5360 - val_accuracy: 0.7963\n",
            "Epoch 5/5\n",
            "115/115 - 5s - loss: 0.5259 - accuracy: 0.7915 - val_loss: 0.5357 - val_accuracy: 0.8043\n"
          ],
          "name": "stdout"
        }
      ]
    },
    {
      "cell_type": "code",
      "metadata": {
        "id": "iIyJPQGEY7Og",
        "colab_type": "code",
        "colab": {
          "base_uri": "https://localhost:8080/",
          "height": 50
        },
        "outputId": "e0c31f1d-187d-40b0-d40e-ac3e2de0044b"
      },
      "source": [
        "test_loss, test_acc = cl.evaluate(TX,ty)\n",
        "print(\"Test accuracy = \" + str(test_acc) )"
      ],
      "execution_count": 143,
      "outputs": [
        {
          "output_type": "stream",
          "text": [
            "94/94 [==============================] - 0s 4ms/step - loss: 0.9451 - accuracy: 0.6077\n",
            "Test accuracy = 0.6076666712760925\n"
          ],
          "name": "stdout"
        }
      ]
    },
    {
      "cell_type": "code",
      "metadata": {
        "id": "2Z-hKC3-bnSA",
        "colab_type": "code",
        "colab": {
          "base_uri": "https://localhost:8080/",
          "height": 217
        },
        "outputId": "3b869ed1-011a-4f25-f25f-c6b19368b78d"
      },
      "source": [
        "# Model no 3\n",
        "\n",
        "model = Sequential()\n",
        "model.add(Embedding(vocab_size, embed_size, input_shape = (X.shape[1],)))\n",
        "model.add(LSTM(units=264, activation='tanh'))\n",
        "model.add(Dense(units=64,activation='tanh'))\n",
        "model.add(Dropout(0.5))\n",
        "model.add(Dense(units=3, activation='softmax'))\n",
        "\n",
        "model.compile(optimizer='adam', loss=\"sparse_categorical_crossentropy\", metrics = ['accuracy'])\n",
        "history = model.fit(X, y, epochs=6, batch_size=128,verbose=2,validation_data=(VX,vy))"
      ],
      "execution_count": 144,
      "outputs": [
        {
          "output_type": "stream",
          "text": [
            "Epoch 1/6\n",
            "115/115 - 7s - loss: 0.9187 - accuracy: 0.5437 - val_loss: 0.8050 - val_accuracy: 0.6373\n",
            "Epoch 2/6\n",
            "115/115 - 6s - loss: 0.7865 - accuracy: 0.6433 - val_loss: 0.7750 - val_accuracy: 0.6493\n",
            "Epoch 3/6\n",
            "115/115 - 6s - loss: 0.7455 - accuracy: 0.6714 - val_loss: 0.7474 - val_accuracy: 0.6827\n",
            "Epoch 4/6\n",
            "115/115 - 6s - loss: 0.6887 - accuracy: 0.7073 - val_loss: 0.6534 - val_accuracy: 0.7270\n",
            "Epoch 5/6\n",
            "115/115 - 6s - loss: 0.6396 - accuracy: 0.7294 - val_loss: 0.6260 - val_accuracy: 0.7533\n",
            "Epoch 6/6\n",
            "115/115 - 6s - loss: 0.5896 - accuracy: 0.7531 - val_loss: 0.5908 - val_accuracy: 0.7720\n"
          ],
          "name": "stdout"
        }
      ]
    },
    {
      "cell_type": "code",
      "metadata": {
        "id": "lr9hUc_hQ084",
        "colab_type": "code",
        "colab": {
          "base_uri": "https://localhost:8080/",
          "height": 50
        },
        "outputId": "eb67515a-169b-4665-a2b7-10fcf3c27d60"
      },
      "source": [
        "test_loss, test_acc = model.evaluate(TX,ty)\n",
        "print(\"Test accuracy = \" + str(test_acc) )"
      ],
      "execution_count": 145,
      "outputs": [
        {
          "output_type": "stream",
          "text": [
            "94/94 [==============================] - 1s 8ms/step - loss: 0.9321 - accuracy: 0.5953\n",
            "Test accuracy = 0.5953333377838135\n"
          ],
          "name": "stdout"
        }
      ]
    },
    {
      "cell_type": "code",
      "metadata": {
        "id": "El7T9qqKKMVH",
        "colab_type": "code",
        "colab": {
          "base_uri": "https://localhost:8080/",
          "height": 650
        },
        "outputId": "bdf50729-a5be-4bf3-bf69-b523104d97c5"
      },
      "source": [
        "# Model no 4\n",
        "\n",
        "ip = tf.keras.Input(shape=(X.shape[1]))\n",
        "b = Embedding(vocab_size, embed_size,trainable=True)(ip)\n",
        "c1 = tf.keras.layers.Conv1D(64, kernel_size=3, padding='valid', kernel_initializer='glorot_uniform')(b)\n",
        "c2 = tf.keras.layers.Conv1D(64, kernel_size=4, padding='valid', kernel_initializer='glorot_uniform')(b)\n",
        "c3 = tf.keras.layers.Conv1D(64, kernel_size=5, padding='valid', kernel_initializer='glorot_uniform')(b)\n",
        "x = tf.keras.layers.concatenate([c1, c2, c3],axis=1)\n",
        "x = tf.keras.layers.GlobalMaxPool1D()(x)\n",
        "x = tf.reshape(x,(-1,1,64))\n",
        "x = Dense(64,activation='tanh')(x)\n",
        "x = Dense(3, activation='softmax')(x)\n",
        "cnn = tf.keras.Model(inputs=ip, outputs=x)\n",
        "cnn.compile(loss='sparse_categorical_crossentropy', optimizer=tf.keras.optimizers.Adam(learning_rate=0.01, beta_1=0.9, beta_2=0.999, epsilon=1e-07), metrics=['accuracy'])\n",
        "cnn.summary()\n",
        "history = cnn.fit(X, y, epochs=4, batch_size=128,verbose=2,validation_data=(VX,vy))"
      ],
      "execution_count": 146,
      "outputs": [
        {
          "output_type": "stream",
          "text": [
            "Model: \"model_20\"\n",
            "__________________________________________________________________________________________________\n",
            "Layer (type)                    Output Shape         Param #     Connected to                     \n",
            "==================================================================================================\n",
            "input_21 (InputLayer)           [(None, 50)]         0                                            \n",
            "__________________________________________________________________________________________________\n",
            "embedding_27 (Embedding)        (None, 50, 128)      2560000     input_21[0][0]                   \n",
            "__________________________________________________________________________________________________\n",
            "conv1d_32 (Conv1D)              (None, 48, 64)       24640       embedding_27[0][0]               \n",
            "__________________________________________________________________________________________________\n",
            "conv1d_33 (Conv1D)              (None, 47, 64)       32832       embedding_27[0][0]               \n",
            "__________________________________________________________________________________________________\n",
            "conv1d_34 (Conv1D)              (None, 46, 64)       41024       embedding_27[0][0]               \n",
            "__________________________________________________________________________________________________\n",
            "concatenate_13 (Concatenate)    (None, 141, 64)      0           conv1d_32[0][0]                  \n",
            "                                                                 conv1d_33[0][0]                  \n",
            "                                                                 conv1d_34[0][0]                  \n",
            "__________________________________________________________________________________________________\n",
            "global_max_pooling1d_20 (Global (None, 64)           0           concatenate_13[0][0]             \n",
            "__________________________________________________________________________________________________\n",
            "tf_op_layer_Reshape_13 (TensorF [(None, 1, 64)]      0           global_max_pooling1d_20[0][0]    \n",
            "__________________________________________________________________________________________________\n",
            "dense_40 (Dense)                (None, 1, 64)        4160        tf_op_layer_Reshape_13[0][0]     \n",
            "__________________________________________________________________________________________________\n",
            "dense_41 (Dense)                (None, 1, 3)         195         dense_40[0][0]                   \n",
            "==================================================================================================\n",
            "Total params: 2,662,851\n",
            "Trainable params: 2,662,851\n",
            "Non-trainable params: 0\n",
            "__________________________________________________________________________________________________\n",
            "Epoch 1/4\n",
            "115/115 - 4s - loss: 0.8911 - accuracy: 0.5726 - val_loss: 0.7275 - val_accuracy: 0.6810\n",
            "Epoch 2/4\n",
            "115/115 - 4s - loss: 0.7552 - accuracy: 0.6613 - val_loss: 0.7602 - val_accuracy: 0.6183\n",
            "Epoch 3/4\n",
            "115/115 - 4s - loss: 0.6261 - accuracy: 0.7405 - val_loss: 0.5741 - val_accuracy: 0.7890\n",
            "Epoch 4/4\n",
            "115/115 - 4s - loss: 0.4922 - accuracy: 0.8107 - val_loss: 0.4888 - val_accuracy: 0.8360\n"
          ],
          "name": "stdout"
        }
      ]
    },
    {
      "cell_type": "code",
      "metadata": {
        "id": "HN_gngUfY8Jl",
        "colab_type": "code",
        "colab": {
          "base_uri": "https://localhost:8080/",
          "height": 50
        },
        "outputId": "ab0450ee-9f4e-4bb0-93a8-54bd7146c14e"
      },
      "source": [
        "test_loss, test_acc = cnn.evaluate(TX,ty)\n",
        "print(\"Test accuracy = \" + str(test_acc) )"
      ],
      "execution_count": 147,
      "outputs": [
        {
          "output_type": "stream",
          "text": [
            "94/94 [==============================] - 1s 6ms/step - loss: 1.0141 - accuracy: 0.6033\n",
            "Test accuracy = 0.6033333539962769\n"
          ],
          "name": "stdout"
        }
      ]
    },
    {
      "cell_type": "code",
      "metadata": {
        "id": "t27_jNYnF6UM",
        "colab_type": "code",
        "colab": {}
      },
      "source": [
        "x1 = bi.predict(TX)\n",
        "x2 = cl.predict(TX)\n",
        "x3 = model.predict(TX)\n",
        "x4 = cnn.predict(TX)"
      ],
      "execution_count": 148,
      "outputs": []
    },
    {
      "cell_type": "code",
      "metadata": {
        "id": "XCw-cg_tZTLn",
        "colab_type": "code",
        "colab": {}
      },
      "source": [
        "x5 = bi.predict(VX)\n",
        "x6 = cl.predict(VX)\n",
        "x7 = model.predict(VX)\n",
        "x8 = cnn.predict(VX)"
      ],
      "execution_count": 149,
      "outputs": []
    },
    {
      "cell_type": "code",
      "metadata": {
        "id": "lDUPpdCXZZJg",
        "colab_type": "code",
        "colab": {}
      },
      "source": [
        "x4=np.reshape(x4,(3000,3))"
      ],
      "execution_count": 150,
      "outputs": []
    },
    {
      "cell_type": "code",
      "metadata": {
        "id": "EyBV0_dPYk6F",
        "colab_type": "code",
        "colab": {}
      },
      "source": [
        "x8=np.reshape(x4,(3000,3))"
      ],
      "execution_count": 151,
      "outputs": []
    },
    {
      "cell_type": "code",
      "metadata": {
        "id": "mLxx3ZcNAJaR",
        "colab_type": "code",
        "colab": {}
      },
      "source": [
        "a=[]\n",
        "for i in range(len(x1)):\n",
        "  b=[]\n",
        "  for j in range(len(x1[i])):\n",
        "    z = max(x1[i][j],x2[i][j],x3[i][j],x4[i][j] )\n",
        "    b.append(z)\n",
        "  a.append(b)\n",
        "  b=[]\n"
      ],
      "execution_count": 152,
      "outputs": []
    },
    {
      "cell_type": "code",
      "metadata": {
        "id": "rarHfb0SZcvF",
        "colab_type": "code",
        "colab": {}
      },
      "source": [
        "c=[]\n",
        "for i in range(len(x5)):\n",
        "  d=[]\n",
        "  for j in range(len(x5[i])):\n",
        "    z = max(x5[i][j],x6[i][j],x7[i][j],x8[i][j] )\n",
        "    d.append(z)\n",
        "  c.append(d)\n",
        "  d=[]"
      ],
      "execution_count": 153,
      "outputs": []
    },
    {
      "cell_type": "code",
      "metadata": {
        "id": "aICS6kVOZoUj",
        "colab_type": "code",
        "colab": {}
      },
      "source": [
        "a=np.array(a)\n",
        "a=np.argmax(a,axis=1)"
      ],
      "execution_count": 154,
      "outputs": []
    },
    {
      "cell_type": "code",
      "metadata": {
        "id": "zNBUWxWQaCJM",
        "colab_type": "code",
        "colab": {}
      },
      "source": [
        "c=np.array(c)\n",
        "c=np.argmax(c,axis=1)"
      ],
      "execution_count": 155,
      "outputs": []
    },
    {
      "cell_type": "code",
      "metadata": {
        "id": "Pl1wVF5Yodnp",
        "colab_type": "code",
        "colab": {
          "base_uri": "https://localhost:8080/",
          "height": 33
        },
        "outputId": "b3d7baf1-95cc-4d7c-cc10-cfcd15e8c71d"
      },
      "source": [
        "test_acc = accuracy_score(ty,a)\n",
        "print(\"Test accuracy = \" + str(test_acc) )"
      ],
      "execution_count": 156,
      "outputs": [
        {
          "output_type": "stream",
          "text": [
            "Test accuracy = 0.617\n"
          ],
          "name": "stdout"
        }
      ]
    },
    {
      "cell_type": "code",
      "metadata": {
        "id": "pOE_tOfGZsy1",
        "colab_type": "code",
        "colab": {
          "base_uri": "https://localhost:8080/",
          "height": 33
        },
        "outputId": "55624fba-de86-4616-ac1f-f53084348622"
      },
      "source": [
        "val_acc = accuracy_score(vy,c)\n",
        "print(\"Validation accuracy = \" + str(val_acc) )"
      ],
      "execution_count": 157,
      "outputs": [
        {
          "output_type": "stream",
          "text": [
            "Validation accuracy = 0.7623333333333333\n"
          ],
          "name": "stdout"
        }
      ]
    },
    {
      "cell_type": "code",
      "metadata": {
        "id": "6MACwofXJBpS",
        "colab_type": "code",
        "colab": {}
      },
      "source": [
        ""
      ],
      "execution_count": 157,
      "outputs": []
    }
  ]
}