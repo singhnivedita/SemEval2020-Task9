{
  "nbformat": 4,
  "nbformat_minor": 0,
  "metadata": {
    "colab": {
      "name": "Ensemble Learning",
      "provenance": [],
      "collapsed_sections": []
    },
    "kernelspec": {
      "name": "python3",
      "display_name": "Python 3"
    },
    "accelerator": "GPU"
  },
  "cells": [
    {
      "cell_type": "code",
      "metadata": {
        "id": "NntCGSmcoXoV",
        "colab_type": "code",
        "colab": {}
      },
      "source": [
        "# !pip install tensorflow-gpu"
      ],
      "execution_count": 0,
      "outputs": []
    },
    {
      "cell_type": "code",
      "metadata": {
        "id": "0k46obCQhEWC",
        "colab_type": "code",
        "outputId": "09b8f0c9-5542-47d6-9abb-803fea608688",
        "colab": {
          "base_uri": "https://localhost:8080/",
          "height": 102
        }
      },
      "source": [
        "!unzip /content/drive-download-20200428T190033Z-001.zip"
      ],
      "execution_count": 0,
      "outputs": [
        {
          "output_type": "stream",
          "text": [
            "Archive:  /content/drive-download-20200428T190033Z-001.zip\n",
            "  inflating: ValidationOnly.tsv      \n",
            "  inflating: Ty.txt                  \n",
            "  inflating: FinalTest.tsv           \n",
            "  inflating: FinalTrainingOnly.tsv   \n"
          ],
          "name": "stdout"
        }
      ]
    },
    {
      "cell_type": "code",
      "metadata": {
        "id": "EqqRj5P_odPu",
        "colab_type": "code",
        "colab": {}
      },
      "source": [
        "import numpy as np\n",
        "import matplotlib.pyplot as plt\n",
        "import tensorflow as tf\n",
        "import pandas as pd\n",
        "import csv\n",
        "from tensorflow.keras.preprocessing.text import Tokenizer\n",
        "from tensorflow.keras.preprocessing.sequence import pad_sequences\n",
        "from tensorflow.keras import Sequential\n",
        "from tensorflow.keras.layers import LSTM, Dropout, Dense, Embedding ,Bidirectional\n",
        "from sklearn.model_selection import train_test_split\n",
        "import torch\n",
        "from sklearn.metrics import accuracy_score"
      ],
      "execution_count": 0,
      "outputs": []
    },
    {
      "cell_type": "code",
      "metadata": {
        "id": "8_n5CCgiodS-",
        "colab_type": "code",
        "colab": {}
      },
      "source": [
        "d = pd.read_csv('/content/FinalTrainingOnly.tsv', sep=\"\\t\", header=None )\n",
        "\n",
        "x=d[1]\n",
        "y=d[2]\n",
        "y=list(y)\n",
        "x=list(x)\n",
        "\n",
        "for i in range(len(x)):\n",
        "  if type(x[i])==float:\n",
        "    x[i]=\" \"\n",
        "    y[i]= 1\n",
        "\n",
        "y=np.array(y)"
      ],
      "execution_count": 0,
      "outputs": []
    },
    {
      "cell_type": "code",
      "metadata": {
        "id": "B2-_zmvQDQOy",
        "colab_type": "code",
        "colab": {}
      },
      "source": [
        "v = pd.read_csv('/content/ValidationOnly.tsv', sep=\"\\t\", header=None )\n",
        "\n",
        "vx=v[1]\n",
        "vy=v[2]\n",
        "vy=list(vy)\n",
        "vx=list(vx)\n",
        "\n",
        "for i in range(len(vx)):\n",
        "  if type(vx[i])==float:\n",
        "    vx[i]=\" \"\n",
        "    vy[i]= 1\n",
        "\n",
        "vy=np.array(vy)"
      ],
      "execution_count": 0,
      "outputs": []
    },
    {
      "cell_type": "code",
      "metadata": {
        "id": "e334IozGodVP",
        "colab_type": "code",
        "colab": {}
      },
      "source": [
        "t = pd.read_csv('/content/FinalTest.tsv', sep=\"\\t\", header=None )\n",
        "tx=list(t[1])\n",
        "for i in range(len(tx)):\n",
        "  if type(tx[i])==float:\n",
        "    tx[i]=\" \""
      ],
      "execution_count": 0,
      "outputs": []
    },
    {
      "cell_type": "code",
      "metadata": {
        "id": "oUd0qrMWUATS",
        "colab_type": "code",
        "colab": {}
      },
      "source": [
        "ty = pd.read_csv('/content/Ty.txt', sep=\",\", header=None )\n",
        "sentiment = []\n",
        "for i in range(len(ty)):\n",
        "    if ty[1][i]=='negative':\n",
        "        sentiment.append(0)\n",
        "    elif ty[1][i]=='neutral':\n",
        "        sentiment.append(1)\n",
        "    elif ty[1][i]=='positive':\n",
        "        sentiment.append(2)\n",
        "\n",
        "ty = np.array(sentiment)"
      ],
      "execution_count": 0,
      "outputs": []
    },
    {
      "cell_type": "code",
      "metadata": {
        "id": "anl0VfrBodZY",
        "colab_type": "code",
        "colab": {}
      },
      "source": [
        "tokenizer = Tokenizer(num_words=2500,split=' ')\n",
        "tokenizer.fit_on_texts(x)\n",
        "\n",
        "X= tokenizer.texts_to_sequences(x)\n",
        "X = pad_sequences(X,maxlen=50)\n",
        "\n",
        "VX= tokenizer.texts_to_sequences(vx)\n",
        "VX = pad_sequences(VX,maxlen=50)\n",
        "\n",
        "\n",
        "TX = tokenizer.texts_to_sequences(tx)\n",
        "TX = pad_sequences(TX,maxlen=50)"
      ],
      "execution_count": 0,
      "outputs": []
    },
    {
      "cell_type": "code",
      "metadata": {
        "id": "J51f1HH8odb2",
        "colab_type": "code",
        "colab": {}
      },
      "source": [
        "vocab_size = 20000\n",
        "embed_size = 128"
      ],
      "execution_count": 0,
      "outputs": []
    },
    {
      "cell_type": "code",
      "metadata": {
        "id": "N9sHNymjodeP",
        "colab_type": "code",
        "outputId": "9e035409-0c0f-4b39-bbc0-4b43277f2edf",
        "colab": {
          "base_uri": "https://localhost:8080/",
          "height": 272
        }
      },
      "source": [
        "# Model no 1 \n",
        "\n",
        "ip = tf.keras.Input(shape=(X.shape[1]))\n",
        "em = Embedding(vocab_size, embed_size,trainable=True)(ip)\n",
        "x = Bidirectional(LSTM(128,activation='tanh', return_sequences=True, dropout=0.15, recurrent_dropout=0.15))(em) # Dimn shd be (None,200,128)\n",
        "x = tf.keras.layers.Conv1D(64, kernel_size=3, padding='valid', kernel_initializer='glorot_uniform')(x)\n",
        "avg_pool = tf.keras.layers.GlobalAveragePooling1D()(x)\n",
        "max_pool = tf.keras.layers.GlobalMaxPool1D()(x)\n",
        "x = tf.keras.layers.concatenate([avg_pool, max_pool])\n",
        "x = Dense(3, activation='softmax')(x)\n",
        "bi = tf.keras.Model(inputs = ip , outputs = x)\n",
        "bi.compile(loss='sparse_categorical_crossentropy', optimizer=tf.keras.optimizers.Adam(learning_rate=0.01, beta_1=0.9, beta_2=0.999, epsilon=1e-07), metrics=['accuracy'])\n",
        "# tf.keras.utils.plot_model(bi, 'my_first_model.png')\n",
        "history1 = bi.fit(X, y, epochs=7, batch_size=128,verbose=2,validation_data=(VX,vy))"
      ],
      "execution_count": 0,
      "outputs": [
        {
          "output_type": "stream",
          "text": [
            "Train on 14594 samples, validate on 3000 samples\n",
            "Epoch 1/7\n",
            "14594/14594 - 30s - loss: 0.8911 - accuracy: 0.5650 - val_loss: 0.8009 - val_accuracy: 0.6500\n",
            "Epoch 2/7\n",
            "14594/14594 - 20s - loss: 0.7813 - accuracy: 0.6551 - val_loss: 0.8402 - val_accuracy: 0.6327\n",
            "Epoch 3/7\n",
            "14594/14594 - 20s - loss: 0.7217 - accuracy: 0.6849 - val_loss: 0.6718 - val_accuracy: 0.7163\n",
            "Epoch 4/7\n",
            "14594/14594 - 20s - loss: 0.6500 - accuracy: 0.7235 - val_loss: 0.6449 - val_accuracy: 0.7380\n",
            "Epoch 5/7\n",
            "14594/14594 - 20s - loss: 0.5589 - accuracy: 0.7646 - val_loss: 0.5735 - val_accuracy: 0.7840\n",
            "Epoch 6/7\n",
            "14594/14594 - 20s - loss: 0.5037 - accuracy: 0.7945 - val_loss: 0.5113 - val_accuracy: 0.8120\n",
            "Epoch 7/7\n",
            "14594/14594 - 20s - loss: 0.4215 - accuracy: 0.8320 - val_loss: 0.4847 - val_accuracy: 0.8323\n"
          ],
          "name": "stdout"
        }
      ]
    },
    {
      "cell_type": "code",
      "metadata": {
        "id": "o_ywKYTHDS24",
        "colab_type": "code",
        "outputId": "9ea68a1e-8b6a-4fe5-cbc0-0c0141b44594",
        "colab": {
          "base_uri": "https://localhost:8080/",
          "height": 204
        }
      },
      "source": [
        "# Model no 2 \n",
        "\n",
        "ip = tf.keras.Input(shape=(X.shape[1]))\n",
        "x = Embedding(vocab_size, embed_size,trainable=True)(ip)\n",
        "x = tf.keras.layers.Conv1D(64, kernel_size=3, padding='valid', kernel_initializer='glorot_uniform')(x)\n",
        "x = tf.keras.layers.GlobalMaxPool1D()(x)\n",
        "x = tf.reshape(x,(-1,1,64))\n",
        "x = LSTM(64,activation='tanh', dropout=0.15, recurrent_dropout=0.15)(x)\n",
        "x = Dense(3, activation='softmax')(x)\n",
        "cl = tf.keras.Model(inputs=ip, outputs=x)\n",
        "cl.compile(loss='sparse_categorical_crossentropy', optimizer=tf.keras.optimizers.Adam(learning_rate=0.01, beta_1=0.9, beta_2=0.999, epsilon=1e-07), metrics=['accuracy'])\n",
        "history = cl.fit(X, y, epochs=5, batch_size=128,verbose=2,validation_data=(VX,vy))"
      ],
      "execution_count": 0,
      "outputs": [
        {
          "output_type": "stream",
          "text": [
            "Train on 14594 samples, validate on 3000 samples\n",
            "Epoch 1/5\n",
            "14594/14594 - 6s - loss: 0.8856 - accuracy: 0.5646 - val_loss: 0.7652 - val_accuracy: 0.6597\n",
            "Epoch 2/5\n",
            "14594/14594 - 3s - loss: 0.7679 - accuracy: 0.6578 - val_loss: 0.7025 - val_accuracy: 0.6930\n",
            "Epoch 3/5\n",
            "14594/14594 - 3s - loss: 0.6914 - accuracy: 0.7021 - val_loss: 0.6386 - val_accuracy: 0.7480\n",
            "Epoch 4/5\n",
            "14594/14594 - 3s - loss: 0.6056 - accuracy: 0.7530 - val_loss: 0.5576 - val_accuracy: 0.7850\n",
            "Epoch 5/5\n",
            "14594/14594 - 3s - loss: 0.5155 - accuracy: 0.7967 - val_loss: 0.5102 - val_accuracy: 0.8183\n"
          ],
          "name": "stdout"
        }
      ]
    },
    {
      "cell_type": "code",
      "metadata": {
        "id": "2Z-hKC3-bnSA",
        "colab_type": "code",
        "outputId": "9882a7bc-9df4-4223-a823-c6f8ac219849",
        "colab": {
          "base_uri": "https://localhost:8080/",
          "height": 238
        }
      },
      "source": [
        "# Model no 3\n",
        "\n",
        "model = Sequential()\n",
        "model.add(Embedding(vocab_size, embed_size, input_shape = (X.shape[1],)))\n",
        "model.add(LSTM(units=264, activation='tanh'))\n",
        "model.add(Dense(units=64,activation='tanh'))\n",
        "model.add(Dropout(0.5))\n",
        "model.add(Dense(units=3, activation='softmax'))\n",
        "\n",
        "model.compile(optimizer='adam', loss=\"sparse_categorical_crossentropy\", metrics = ['accuracy'])\n",
        "history = model.fit(X, y, epochs=6, batch_size=128,verbose=2,validation_data=(VX,vy))"
      ],
      "execution_count": 0,
      "outputs": [
        {
          "output_type": "stream",
          "text": [
            "Train on 14594 samples, validate on 3000 samples\n",
            "Epoch 1/6\n",
            "14594/14594 - 5s - loss: 0.9166 - accuracy: 0.5431 - val_loss: 0.7952 - val_accuracy: 0.6400\n",
            "Epoch 2/6\n",
            "14594/14594 - 4s - loss: 0.7893 - accuracy: 0.6431 - val_loss: 0.7434 - val_accuracy: 0.6873\n",
            "Epoch 3/6\n",
            "14594/14594 - 4s - loss: 0.7385 - accuracy: 0.6721 - val_loss: 0.7078 - val_accuracy: 0.7050\n",
            "Epoch 4/6\n",
            "14594/14594 - 4s - loss: 0.6874 - accuracy: 0.7057 - val_loss: 0.6485 - val_accuracy: 0.7407\n",
            "Epoch 5/6\n",
            "14594/14594 - 4s - loss: 0.6413 - accuracy: 0.7269 - val_loss: 0.6193 - val_accuracy: 0.7620\n",
            "Epoch 6/6\n",
            "14594/14594 - 4s - loss: 0.5906 - accuracy: 0.7523 - val_loss: 0.5948 - val_accuracy: 0.7787\n"
          ],
          "name": "stdout"
        }
      ]
    },
    {
      "cell_type": "code",
      "metadata": {
        "id": "El7T9qqKKMVH",
        "colab_type": "code",
        "outputId": "26acd177-0d8a-4369-a345-ac21a5595016",
        "colab": {
          "base_uri": "https://localhost:8080/",
          "height": 680
        }
      },
      "source": [
        "# Model no 4\n",
        "\n",
        "ip = tf.keras.Input(shape=(X.shape[1]))\n",
        "b = Embedding(vocab_size, embed_size,trainable=True)(ip)\n",
        "c1 = tf.keras.layers.Conv1D(64, kernel_size=3, padding='valid', kernel_initializer='glorot_uniform')(b)\n",
        "c2 = tf.keras.layers.Conv1D(64, kernel_size=4, padding='valid', kernel_initializer='glorot_uniform')(b)\n",
        "c3 = tf.keras.layers.Conv1D(64, kernel_size=5, padding='valid', kernel_initializer='glorot_uniform')(b)\n",
        "x = tf.keras.layers.concatenate([c1, c2, c3],axis=1)\n",
        "x = tf.keras.layers.GlobalMaxPool1D()(x)\n",
        "x = tf.reshape(x,(-1,1,64))\n",
        "x = Dense(64,activation='tanh')(x)\n",
        "x = Dense(3, activation='softmax')(x)\n",
        "cnn = tf.keras.Model(inputs=ip, outputs=x)\n",
        "cnn.compile(loss='sparse_categorical_crossentropy', optimizer=tf.keras.optimizers.Adam(learning_rate=0.01, beta_1=0.9, beta_2=0.999, epsilon=1e-07), metrics=['accuracy'])\n",
        "cnn.summary()\n",
        "history = cnn.fit(X, y, epochs=4, batch_size=128,verbose=2,validation_data=(VX,vy))"
      ],
      "execution_count": 0,
      "outputs": [
        {
          "output_type": "stream",
          "text": [
            "Model: \"model_2\"\n",
            "__________________________________________________________________________________________________\n",
            "Layer (type)                    Output Shape         Param #     Connected to                     \n",
            "==================================================================================================\n",
            "input_3 (InputLayer)            [(None, 50)]         0                                            \n",
            "__________________________________________________________________________________________________\n",
            "embedding_3 (Embedding)         (None, 50, 128)      2560000     input_3[0][0]                    \n",
            "__________________________________________________________________________________________________\n",
            "conv1d_2 (Conv1D)               (None, 48, 64)       24640       embedding_3[0][0]                \n",
            "__________________________________________________________________________________________________\n",
            "conv1d_3 (Conv1D)               (None, 47, 64)       32832       embedding_3[0][0]                \n",
            "__________________________________________________________________________________________________\n",
            "conv1d_4 (Conv1D)               (None, 46, 64)       41024       embedding_3[0][0]                \n",
            "__________________________________________________________________________________________________\n",
            "concatenate_1 (Concatenate)     (None, 141, 64)      0           conv1d_2[0][0]                   \n",
            "                                                                 conv1d_3[0][0]                   \n",
            "                                                                 conv1d_4[0][0]                   \n",
            "__________________________________________________________________________________________________\n",
            "global_max_pooling1d_2 (GlobalM (None, 64)           0           concatenate_1[0][0]              \n",
            "__________________________________________________________________________________________________\n",
            "tf_op_layer_Reshape_1 (TensorFl [(None, 1, 64)]      0           global_max_pooling1d_2[0][0]     \n",
            "__________________________________________________________________________________________________\n",
            "dense_4 (Dense)                 (None, 1, 64)        4160        tf_op_layer_Reshape_1[0][0]      \n",
            "__________________________________________________________________________________________________\n",
            "dense_5 (Dense)                 (None, 1, 3)         195         dense_4[0][0]                    \n",
            "==================================================================================================\n",
            "Total params: 2,662,851\n",
            "Trainable params: 2,662,851\n",
            "Non-trainable params: 0\n",
            "__________________________________________________________________________________________________\n",
            "Train on 14594 samples, validate on 3000 samples\n",
            "Epoch 1/4\n",
            "14594/14594 - 4s - loss: 0.8950 - accuracy: 0.5661 - val_loss: 0.8131 - val_accuracy: 0.6353\n",
            "Epoch 2/4\n",
            "14594/14594 - 3s - loss: 0.7653 - accuracy: 0.6595 - val_loss: 0.7733 - val_accuracy: 0.6173\n",
            "Epoch 3/4\n",
            "14594/14594 - 3s - loss: 0.6300 - accuracy: 0.7333 - val_loss: 0.5759 - val_accuracy: 0.7780\n",
            "Epoch 4/4\n",
            "14594/14594 - 4s - loss: 0.4992 - accuracy: 0.8018 - val_loss: 0.6766 - val_accuracy: 0.7167\n"
          ],
          "name": "stdout"
        }
      ]
    },
    {
      "cell_type": "code",
      "metadata": {
        "id": "t27_jNYnF6UM",
        "colab_type": "code",
        "colab": {}
      },
      "source": [
        "x1 = bi.predict(TX)\n",
        "x2 = cl.predict(TX)\n",
        "x3 = model.predict(TX)\n",
        "x4 = cnn.predict(TX)"
      ],
      "execution_count": 0,
      "outputs": []
    },
    {
      "cell_type": "code",
      "metadata": {
        "id": "EyBV0_dPYk6F",
        "colab_type": "code",
        "colab": {}
      },
      "source": [
        "x4=np.reshape(x4,(3000,3))"
      ],
      "execution_count": 0,
      "outputs": []
    },
    {
      "cell_type": "code",
      "metadata": {
        "id": "mLxx3ZcNAJaR",
        "colab_type": "code",
        "colab": {}
      },
      "source": [
        "a=[]\n",
        "for i in range(len(x1)):\n",
        "  b=[]\n",
        "  for j in range(len(x1[i])):\n",
        "    z = max(x1[i][j],x2[i][j],x3[i][j],x4[i][j] )\n",
        "    b.append(z)\n",
        "  a.append(b)\n",
        "  b=[]\n"
      ],
      "execution_count": 0,
      "outputs": []
    },
    {
      "cell_type": "code",
      "metadata": {
        "id": "zNBUWxWQaCJM",
        "colab_type": "code",
        "colab": {}
      },
      "source": [
        "a=np.array(a)\n",
        "a=np.argmax(a,axis=1)"
      ],
      "execution_count": 0,
      "outputs": []
    },
    {
      "cell_type": "code",
      "metadata": {
        "id": "Pl1wVF5Yodnp",
        "colab_type": "code",
        "outputId": "791d79b2-b3bf-4964-9bc6-8d13d263957b",
        "colab": {
          "base_uri": "https://localhost:8080/",
          "height": 34
        }
      },
      "source": [
        "test_acc = accuracy_score(ty,a)\n",
        "print(\"Test accuracy = \" + str(test_acc) )"
      ],
      "execution_count": 0,
      "outputs": [
        {
          "output_type": "stream",
          "text": [
            "Test accuracy = 0.6166666666666667\n"
          ],
          "name": "stdout"
        }
      ]
    },
    {
      "cell_type": "code",
      "metadata": {
        "id": "w-ZH9WpFdxz9",
        "colab_type": "code",
        "colab": {}
      },
      "source": [
        ""
      ],
      "execution_count": 0,
      "outputs": []
    }
  ]
}